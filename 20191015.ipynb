{
 "cells": [
  {
   "cell_type": "code",
   "execution_count": 9,
   "metadata": {},
   "outputs": [
    {
     "name": "stdout",
     "output_type": "stream",
     "text": [
      "input any letterA\n",
      "The ASCII value of 'A' is 65\n"
     ]
    }
   ],
   "source": [
    "#找出字母的ASCII編碼\n",
    "c = input('input any letter')\n",
    "# print the ASCII value of assigned character in c \n",
    "print(\"The ASCII value of '\" + c + \"' is\", ord(c)) "
   ]
  },
  {
   "cell_type": "code",
   "execution_count": 10,
   "metadata": {},
   "outputs": [
    {
     "name": "stdout",
     "output_type": "stream",
     "text": [
      "input time08:05:45 PM\n",
      "20:05:45\n"
     ]
    }
   ],
   "source": [
    "#12小時/24小時制互換\n",
    "def convert24(str1): \n",
    "    if str1[-2:] == \"AM\" and str1[:2] == \"12\": \n",
    "        return \"00\" + str1[2:-2]  \n",
    "    elif str1[-2:] == \"AM\": \n",
    "        return str1[:-2]    \n",
    "    elif str1[-2:] == \"PM\" and str1[:2] == \"12\": \n",
    "        return str1[:-2] \n",
    "    else: \n",
    "        return str(int(str1[:2]) + 12) + str1[2:8] \n",
    "time = input('input time')      \n",
    "print(convert24(time)) "
   ]
  }
 ],
 "metadata": {
  "kernelspec": {
   "display_name": "Python 3",
   "language": "python",
   "name": "python3"
  },
  "language_info": {
   "codemirror_mode": {
    "name": "ipython",
    "version": 3
   },
   "file_extension": ".py",
   "mimetype": "text/x-python",
   "name": "python",
   "nbconvert_exporter": "python",
   "pygments_lexer": "ipython3",
   "version": "3.6.4"
  }
 },
 "nbformat": 4,
 "nbformat_minor": 2
}
